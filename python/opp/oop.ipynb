{
 "cells": [
  {
   "cell_type": "code",
   "execution_count": null,
   "metadata": {},
   "outputs": [],
   "source": [
    "# Tạo một lớp có tên MyClass, với thuộc tính có tên x:\n",
    "class MyClass:\n",
    "  x = 5"
   ]
  },
  {
   "cell_type": "code",
   "execution_count": null,
   "metadata": {},
   "outputs": [],
   "source": [
    "# Tạo một đối tượng có tên p1 và in giá trị của x:\n",
    "\n",
    "p1 = MyClass()\n",
    "print(p1.x)"
   ]
  },
  {
   "cell_type": "code",
   "execution_count": null,
   "metadata": {},
   "outputs": [],
   "source": [
    "# Tất cả các lớp đều có một hàm gọi là __init__(), hàm này luôn được thực thi khi lớp được khởi tạo.\n",
    "\n",
    "# Sử dụng hàm __init__() để gán giá trị cho thuộc tính đối tượng hoặc các thao tác khác cần thực hiện khi đối tượng được tạo:\n",
    "\n",
    "class Person:\n",
    "    def __init__(self, name, age):\n",
    "        self.name = name\n",
    "        self.age = age\n",
    "\n",
    "    def __str__(self):\n",
    "        return f\"{self.name}({self.age})\"\n",
    "    \n",
    "    def myfunc(self):\n",
    "        print(\"Hello my name is \" + self.name)\n",
    "\n",
    "p1 = Person(\"John\", 36)\n",
    "\n",
    "print(p1.name)\n",
    "print(p1.age)\n",
    "\n",
    "# Hàm __str__() kiểm soát những gì sẽ được trả về khi đối tượng lớp được biểu diễn dưới dạng một chuỗi.\n",
    "\n",
    "# Nếu hàm __str__() không được đặt, biểu diễn chuỗi của đối tượng sẽ được trả về: __main__.Person object at 0x00000268440B00A0>\n",
    "\n",
    "print(p1)\n"
   ]
  },
  {
   "cell_type": "code",
   "execution_count": null,
   "metadata": {},
   "outputs": [],
   "source": [
    "#  tạo một phương thức myfunc trong lớp Person:\n",
    "p1.myfunc()\n",
    "\n",
    "# Tham số self là tham chiếu đến phiên bản hiện tại của lớp và được sử dụng để truy cập các biến thuộc lớp.\n",
    "# Nó không cần phải được đặt tên self, bạn có thể gọi nó là gì bạn thích, nhưng nó phải là tham số đầu tiên của bất kỳ hàm nào trong lớp:"
   ]
  },
  {
   "cell_type": "code",
   "execution_count": null,
   "metadata": {},
   "outputs": [],
   "source": [
    "# Sửa đổi thuộc tính đối tượng\n",
    "# Ví dụ\n",
    "# Đặt tuổi của p1 thành 40:\n",
    "\n",
    "p1.age = 40\n",
    "p1.age"
   ]
  },
  {
   "cell_type": "code",
   "execution_count": null,
   "metadata": {},
   "outputs": [],
   "source": [
    "# Xóa thuộc tính age khỏi đối tượng p1:\n",
    "del p1.age\n",
    "\n",
    "# Xóa đối tượng p1:\n",
    "del p1"
   ]
  },
  {
   "cell_type": "code",
   "execution_count": null,
   "metadata": {},
   "outputs": [],
   "source": [
    "# class định nghĩa không được để trống đưa câu lệnh pass để tránh bị lỗi\n",
    "class Person:\n",
    "    pass"
   ]
  },
  {
   "cell_type": "code",
   "execution_count": null,
   "metadata": {},
   "outputs": [],
   "source": [
    "# -------------------------------------------------------------------------------------------\n",
    "# Kế thừa Python\n",
    "# Kế thừa cho phép chúng ta định nghĩa một lớp kế thừa tất cả các phương thức và thuộc tính từ một lớp khác.\n",
    "\n",
    "# Lớp cha là lớp được kế thừa từ đó, còn gọi là lớp cơ sở.\n",
    "\n",
    "# Lớp con là lớp kế thừa từ lớp khác, còn gọi là lớp dẫn xuất."
   ]
  },
  {
   "cell_type": "code",
   "execution_count": null,
   "metadata": {},
   "outputs": [],
   "source": [
    "# Tạo một lớp cha mẹ\n",
    "# Bất kỳ lớp nào cũng có thể là lớp cha,\n",
    "\n",
    "class Person:\n",
    "  def __init__(self, fname, lname):\n",
    "    self.firstname = fname\n",
    "    self.lastname = lname\n",
    "\n",
    "  def printname(self):\n",
    "    print(self.firstname, self.lastname)\n",
    "\n",
    "x = Person(\"John\", \"Doe\")\n",
    "x.printname()"
   ]
  },
  {
   "cell_type": "code",
   "execution_count": null,
   "metadata": {},
   "outputs": [],
   "source": [
    "# Tạo một lớp con\n",
    "# Để tạo một lớp kế thừa chức năng từ một lớp khác, hãy gửi lớp cha làm tham số khi tạo lớp con:\n",
    "\n",
    "# Ví dụ\n",
    "# Tạo một lớp có tên Student, lớp này sẽ kế thừa các thuộc tính và phương thức từ lớp Person:\n",
    "\n",
    "class Student(Person):\n",
    "    def __init__(self, fname, lname, gpa):\n",
    "        # Person.__init__(self, fname, lname)\n",
    "        super().__init__(fname, lname)\n",
    "        self.gpa = gpa\n",
    "\n",
    "    def welcome(self):\n",
    "        print(\"Welcome\", self.firstname, self.lastname, self.gpa)\n",
    "\n",
    "x = Student(\"Mike\", \"Olsen\", 3.2)\n",
    "x.printname()"
   ]
  },
  {
   "cell_type": "code",
   "execution_count": null,
   "metadata": {},
   "outputs": [],
   "source": [
    "# Thêm hàm __init__() vào Studentlớp:\n",
    "# Python cũng có một super()hàm sẽ làm cho lớp con kế thừa tất cả các phương thức và thuộc tính từ lớp cha của nó:\n",
    "# Khi sử dụng super()hàm, bạn không cần phải sử dụng tên của phần tử cha, nó sẽ tự động kế thừa các phương thức và thuộc tính từ phần tử cha của nó."
   ]
  },
  {
   "cell_type": "code",
   "execution_count": null,
   "metadata": {},
   "outputs": [],
   "source": [
    "# thêm một phương thức được gọi welcomevào Studentlớp:\n",
    "x.welcome()"
   ]
  },
  {
   "cell_type": "code",
   "execution_count": null,
   "metadata": {},
   "outputs": [],
   "source": [
    "# --------------------------------------------------------------\n",
    "# Đa hình Python\n",
    "# Từ \"đa hình\" có nghĩa là \"nhiều dạng\" và trong lập trình, nó đề cập đến các phương thức/hàm/toán tử có cùng tên có thể được thực thi trên nhiều đối tượng hoặc lớp.\n",
    "# Đa hình hàm: hàm len()\n",
    "\n"
   ]
  },
  {
   "cell_type": "code",
   "execution_count": null,
   "metadata": {},
   "outputs": [],
   "source": [
    "# Đa hình lớp\n",
    "# Tính đa hình thường được sử dụng trong các phương thức Class, trong đó chúng ta có thể có nhiều lớp có cùng tên phương thức.\n",
    "\n",
    "# Ví dụ: giả sử chúng ta có ba lớp: Car, Boat, và Plane, và chúng đều có một phương thức gọi là move():\n",
    "# Các lớp khác nhau có cùng một phương thức:\n",
    "\n",
    "class Car:\n",
    "    def __init__(self, brand, model):\n",
    "        self.brand = brand\n",
    "        self.model = model\n",
    "\n",
    "    def move(self):\n",
    "        print(\"Drive!\")\n",
    "\n",
    "class Boat:\n",
    "    def __init__(self, brand, model):\n",
    "        self.brand = brand\n",
    "        self.model = model\n",
    "\n",
    "    def move(self):\n",
    "        print(\"Sail!\")\n",
    "\n",
    "class Plane:\n",
    "    def __init__(self, brand, model):\n",
    "        self.brand = brand\n",
    "        self.model = model\n",
    "\n",
    "    def move(self):\n",
    "        print(\"Fly!\")\n",
    "\n",
    "car1 = Car(\"Ford\", \"Mustang\")       #Create a Car class\n",
    "boat1 = Boat(\"Ibiza\", \"Touring 20\") #Create a Boat class\n",
    "plane1 = Plane(\"Boeing\", \"747\")     #Create a Plane class\n",
    "\n",
    "for x in (car1, boat1, plane1):\n",
    "    x.move()"
   ]
  },
  {
   "cell_type": "code",
   "execution_count": null,
   "metadata": {},
   "outputs": [],
   "source": [
    "# Đa hình lớp kế thừa\n",
    "# Còn các lớp có lớp con cùng tên thì sao? Chúng ta có thể sử dụng đa hình ở đó không?\n",
    "\n",
    "# Đúng. Nếu chúng ta sử dụng ví dụ trên và tạo một lớp cha có tên là Vehicle, \n",
    "# và tạo Car, Boat, Plane các lớp con của Vehicle, thì các lớp con sẽ kế thừa các Vehiclephương thức, nhưng có thể ghi đè chúng:\n",
    "class Vehicle:\n",
    "  def __init__(self, brand, model):\n",
    "    self.brand = brand\n",
    "    self.model = model\n",
    "\n",
    "  def move(self):\n",
    "    print(\"Move!\")\n",
    "\n",
    "class Car(Vehicle):\n",
    "  pass\n",
    "\n",
    "class Boat(Vehicle):\n",
    "  def move(self):\n",
    "    print(\"Sail!\")\n",
    "\n",
    "class Plane(Vehicle):\n",
    "  def move(self):\n",
    "    print(\"Fly!\")\n",
    "\n",
    "car1 = Car(\"Ford\", \"Mustang\") #Create a Car object\n",
    "boat1 = Boat(\"Ibiza\", \"Touring 20\") #Create a Boat object\n",
    "plane1 = Plane(\"Boeing\", \"747\") #Create a Plane object\n",
    "\n",
    "for x in (car1, boat1, plane1):\n",
    "  print(x.brand)\n",
    "  print(x.model)\n",
    "  x.move()\n",
    "\n",
    "# Lớp con kế thừa các thuộc tính và phương thức từ lớp cha.\n",
    "\n",
    "# Trong ví dụ trên, bạn có thể thấy Carlớp này trống nhưng nó kế thừa brand, model, và move()từ Vehicle.\n",
    "\n",
    "# Các lớp Boatand Planecũng kế thừa brand, model, và move()from Vehicle, nhưng cả hai đều ghi đè phương move()thức.\n",
    "\n",
    "# Do tính đa hình nên chúng ta có thể thực thi cùng một phương thức cho tất cả các lớp."
   ]
  },
  {
   "cell_type": "code",
   "execution_count": null,
   "metadata": {},
   "outputs": [],
   "source": [
    "\n",
    "# def f1(x):\n",
    "#     print(x)\n",
    "# def f1(x,y):\n",
    "#     print(x,y)\n",
    "\n",
    "# 2 hàm cùng tên Python sẽ hiểu là bạn đang ghi đè (override) lên định nghĩa hàm trước đó.\n",
    "# Python có khả năng tự động xác định kiểu dữ liệu của biến\n",
    "def f1(x=0, y=None):\n",
    "    if type(x) == int:\n",
    "        print('x is type int')\n",
    "    if y is None:\n",
    "        print(x)\n",
    "    else:\n",
    "        print(x, y)\n",
    "\n",
    "f1(1)\n",
    "f1('1')\n",
    "f1(1,2)"
   ]
  },
  {
   "cell_type": "code",
   "execution_count": null,
   "metadata": {},
   "outputs": [],
   "source": [
    "# ---------------------------------------------------\n",
    "# Để thay đổi giá trị của biến toàn cục bên trong hàm, hãy tham chiếu biến đó bằng cách sử dụng globaltừ khóa:\n",
    "x = 300\n",
    "def myfunc():\n",
    "  global x\n",
    "  x = 200\n",
    "myfunc()\n",
    "print(x)"
   ]
  },
  {
   "cell_type": "code",
   "execution_count": null,
   "metadata": {},
   "outputs": [],
   "source": [
    "# -------------------------------------------------------------\n",
    "# Có một hàm tích hợp để liệt kê tất cả các tên hàm (hoặc tên biến) trong một mô-đun. Chức dir()năng:\n",
    "import platform\n",
    "\n",
    "x = dir(platform)\n",
    "print(x)"
   ]
  },
  {
   "cell_type": "code",
   "execution_count": null,
   "metadata": {},
   "outputs": [],
   "source": [
    "# -----------------------------------------------------------------\n",
    "# Ngày giờ Python\n",
    "# Ngày của Python\n",
    "# Ngày tháng trong Python không phải là một kiểu dữ liệu riêng, nhưng chúng ta có thể nhập một mô-đun có tên datetime\n",
    "# để làm việc với ngày tháng làm đối tượng ngày tháng.\n",
    "import datetime\n",
    "\n",
    "x = datetime.datetime.now()\n",
    "print(x)\n",
    "#  năm, tháng, ngày, giờ, phút, giây và micro giây.\n",
    "\n",
    "# Trả về năm và tên ngày trong tuần:\n",
    "print(x.year)\n",
    "print(x.strftime(\"%A\"))"
   ]
  },
  {
   "cell_type": "code",
   "execution_count": null,
   "metadata": {},
   "outputs": [],
   "source": [
    "# Tạo một đối tượng ngày:\n",
    "import datetime\n",
    "\n",
    "x = datetime.datetime(2020, 5, 17)\n",
    "print(x)"
   ]
  },
  {
   "cell_type": "code",
   "execution_count": null,
   "metadata": {},
   "outputs": [],
   "source": [
    "# Phương thức strftime()\n",
    "# Đối datetimetượng có một phương thức để định dạng các đối tượng ngày tháng thành các chuỗi có thể đọc được.\n",
    "\n",
    "# Phương thức này được gọi strftime()và lấy một tham số, format, để chỉ định định dạng của chuỗi trả về:\n",
    "print(x.strftime(\"%B\"))"
   ]
  },
  {
   "cell_type": "code",
   "execution_count": null,
   "metadata": {},
   "outputs": [],
   "source": [
    "# ---------------------------------------------------------\n",
    "# JSON trong Python\n",
    "# Python có một gói tích hợp có tên là json, có thể được sử dụng để làm việc với dữ liệu JSON.\n",
    "\n",
    "# hân tích cú pháp JSON - Chuyển đổi từ JSON sang Dict in Python: json.loads()phương thức\n",
    "import json\n",
    "\n",
    "# some JSON:\n",
    "x =  '{ \"name\":\"John\", \"age\":30, \"city\":\"New York\"}'\n",
    "\n",
    "# parse x:\n",
    "y = json.loads(x)\n",
    "\n",
    "# the result is a Python dictionary:\n",
    "print(y[\"age\"])"
   ]
  },
  {
   "cell_type": "code",
   "execution_count": null,
   "metadata": {},
   "outputs": [],
   "source": [
    "# Chuyển đổi từ Dict in Python sang JSON(a JSON string)\n",
    "# Nếu bạn có một đối tượng Python, bạn có thể chuyển đổi nó thành chuỗi JSON bằng cách sử dụng json.dumps()phương thức này.\n",
    "\n",
    "import json\n",
    "\n",
    "# a Python object (dict):\n",
    "x = {\n",
    "  \"name\": \"John\",\n",
    "  \"age\": 30,\n",
    "  \"city\": \"New York\"\n",
    "}\n",
    "\n",
    "# convert into JSON:\n",
    "y = json.dumps(x)\n",
    "\n",
    "# the result is a JSON string:\n",
    "print(y)\n",
    "print(type(y))"
   ]
  },
  {
   "cell_type": "code",
   "execution_count": null,
   "metadata": {},
   "outputs": [],
   "source": [
    "# Chuyển đổi các đối tượng Python thành chuỗi JSON và in các giá trị:\n",
    "\n",
    "import json\n",
    "\n",
    "print(json.dumps({\"name\": \"John\", \"age\": 30}))\n",
    "print(json.dumps([\"apple\", \"bananas\"]))\n",
    "print(json.dumps((\"apple\", \"bananas\")))\n",
    "print(json.dumps(\"hello\"))\n",
    "print(json.dumps(42))\n",
    "print(json.dumps(31.76))\n",
    "print(json.dumps(True))\n",
    "print(json.dumps(False))\n",
    "print(json.dumps(None))"
   ]
  },
  {
   "cell_type": "code",
   "execution_count": null,
   "metadata": {},
   "outputs": [],
   "source": [
    "import json\n",
    "\n",
    "x = {\n",
    "  \"name\": \"John\",\n",
    "  \"age\": 30,\n",
    "  \"married\": True,\n",
    "  \"divorced\": False,\n",
    "  \"children\": (\"Ann\",\"Billy\"),\n",
    "  \"pets\": None,\n",
    "  \"cars\": [\n",
    "    {\"model\": \"BMW 230\", \"mpg\": 27.5},\n",
    "    {\"model\": \"Ford Edge\", \"mpg\": 24.1}\n",
    "  ]\n",
    "}\n",
    "\n",
    "# convert into JSON:\n",
    "y = json.dumps(x)\n",
    "\n",
    "# the result is a JSON string:\n",
    "print(y)"
   ]
  },
  {
   "cell_type": "code",
   "execution_count": null,
   "metadata": {},
   "outputs": [],
   "source": [
    "\n",
    "# import requests module \n",
    "import requests \n",
    "  \n",
    "# Making a get request \n",
    "response = requests.get('https://api.github.com') \n",
    "  \n",
    "# print response -> <class 'bytes'>\n",
    "print(response.content) \n",
    "  \n",
    "# print json content is a dict in python\n",
    "print(response.json()) "
   ]
  },
  {
   "cell_type": "code",
   "execution_count": null,
   "metadata": {},
   "outputs": [],
   "source": []
  },
  {
   "cell_type": "code",
   "execution_count": null,
   "metadata": {},
   "outputs": [],
   "source": []
  }
 ],
 "metadata": {
  "kernelspec": {
   "display_name": "Python 3",
   "language": "python",
   "name": "python3"
  },
  "language_info": {
   "codemirror_mode": {
    "name": "ipython",
    "version": 3
   },
   "file_extension": ".py",
   "mimetype": "text/x-python",
   "name": "python",
   "nbconvert_exporter": "python",
   "pygments_lexer": "ipython3",
   "version": "3.9.10"
  }
 },
 "nbformat": 4,
 "nbformat_minor": 2
}
