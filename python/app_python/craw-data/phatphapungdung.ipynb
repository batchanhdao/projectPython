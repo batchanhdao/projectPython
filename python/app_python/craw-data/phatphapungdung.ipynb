{
 "cells": [
  {
   "cell_type": "code",
   "execution_count": 1,
   "metadata": {},
   "outputs": [],
   "source": [
    "# @title Văn bản tiêu đề mặc định\n",
    "import requests # web: html + css\n",
    "from bs4 import BeautifulSoup as bs\n",
    "import random\n",
    "import pandas as pd\n",
    "from time import sleep\n",
    "from selenium import webdriver # web: html + css + javasricpt\n",
    "from selenium.webdriver.common.keys import Keys #Keys: cung cấp các phím trên bàn phím\n",
    "from selenium.webdriver.common.by import By # By: định vị các thành phần trong tài liệu.\n",
    "from selenium.webdriver.chrome.service import Service\n",
    "import os\n",
    "import urllib3 # download\n",
    "from urllib.parse import urlparse, urljoin\n",
    "import pyautogui as pag, sys # điều khiển bàn phím và chuột \n",
    "import pyperclip as ppc # copy/parse\n",
    "import cv2\n",
    "import wget\n",
    "from webdriver_manager.chrome import ChromeDriverManager"
   ]
  },
  {
   "cell_type": "code",
   "execution_count": null,
   "metadata": {},
   "outputs": [],
   "source": [
    "# thiết lập url và kiểm tra kết nối\n",
    "url = \"https://phatphapungdung.com/sach-noi/truyen-lich-su-audio\" # địa chỉ web cần crawl data\n",
    "r = requests.get(url) # # Send an HTTP request to the URL and lấy data chưa qua xử lý\n",
    "print(\"Status code:\", r.status_code)\n",
    "print(\"Content:\", type(r.content))\n",
    "print(\"Content:\", r.content)\n"
   ]
  },
  {
   "cell_type": "code",
   "execution_count": null,
   "metadata": {},
   "outputs": [],
   "source": [
    "# open it, go to a website, and get results\n",
    "# wd = webdriver.Chrome()\n",
    "wd = webdriver.Chrome(service=Service(ChromeDriverManager().install()))\n",
    "wd.get(url) #điều hướng đến trang được cung cấp bởi URL.\n",
    "print(len(wd.page_source)) #\n",
    "print(type(wd.page_source))  # <class 'str'>"
   ]
  },
  {
   "cell_type": "code",
   "execution_count": null,
   "metadata": {},
   "outputs": [],
   "source": [
    "# tạo thư mục làm việc\n",
    "working_path=r\"D:\\anh\\download\\craw-data\\phatphapungdung\"\n",
    "os.chdir(working_path)\n",
    "print(os.getcwd())"
   ]
  },
  {
   "cell_type": "code",
   "execution_count": null,
   "metadata": {},
   "outputs": [],
   "source": [
    "def stop_next():\n",
    "    print(\"Function stop_next running\")\n",
    "    while(True):\n",
    "        sleep(0.5)\n",
    "        key = input(\"Enter 'ok' to next: \").strip().lower()\n",
    "        if key == \"ok\":\n",
    "            print(\"Program is continuing\")\n",
    "            return"
   ]
  },
  {
   "cell_type": "code",
   "execution_count": null,
   "metadata": {},
   "outputs": [],
   "source": [
    "def sleepRandom(start=1, end=3, phay=2): # hàm random thời gian ngủ để qua khâu kiểm duyệt \n",
    "    # start/end: random time from start -> end \n",
    "    # phay: phần trăm của 1 số vd phay=2 -> 2.22\n",
    "    phantram = 10**phay\n",
    "    thoigian = random.randint(start*phantram, end*phantram)/phantram\n",
    "    sleep(thoigian)\n"
   ]
  },
  {
   "cell_type": "code",
   "execution_count": null,
   "metadata": {},
   "outputs": [],
   "source": [
    "# hàm ghi file: đường dẫn, văn bản\n",
    "def writeFileTxt(path_file, text, mode='w', encoding='UTF-8'):\n",
    "  print('function: writeFileTxt running')\n",
    "  # Check if the text is a set\n",
    "  if isinstance(text, set):\n",
    "    text = list(text)\n",
    "  # Check if the text is a list/tuple.\n",
    "  if isinstance(text, (list, tuple)):\n",
    "    text = '\\n'.join(text)\n",
    "  with open(path_file, mode=mode, encoding=encoding) as file:\n",
    "    file.write(text)\n",
    "    print(\"write text:\", text)\n",
    "  print('Finished function: writeFileTxt')\n"
   ]
  },
  {
   "cell_type": "code",
   "execution_count": null,
   "metadata": {},
   "outputs": [],
   "source": [
    "\n",
    "# hàm download file: # url / path to fordel -> mode = 1/file -> mode = 0\n",
    "def downloadFile(url, path_file, mode=0):\n",
    "  print('function: downloadFile running')\n",
    "  response = requests.get(url) # send request to url and receive result\n",
    "  if response.status_code == 200: # check status connection: 200 is OK\n",
    "    if mode == 1:\n",
    "      name_file = os.path.basename(urlparse(url).path)\n",
    "      path_file = os.path.join(path_file, name_file)\n",
    "    dir_name = os.path.dirname(path_file)\n",
    "    if dir_name != \"\" and not os.path.exists(dir_name):\n",
    "      os.makedirs(dir_name)\n",
    "    with open(path_file, 'wb') as file: # write file jpg/png\n",
    "        file.write(response.content)\n",
    "    print(f\"Downloaded: {url}\")\n",
    "  else:\n",
    "    print(f\"Failed to download: {url}\")\n",
    "  response.close()\n",
    "  sleepRandom()\n",
    "  print('Finished function: downloadFile')\n",
    "\n",
    "\n",
    "# hàm download file Pro: # url / path to fordel -> mode = 1/file -> mode = 0: pdf/mp3/mp4\n",
    "def downloadFilePro(url, path_file, mode=0):\n",
    "  print('function: downloadFilePro running')\n",
    "  try:\n",
    "    if mode == 1:\n",
    "      name_file = os.path.basename(urlparse(url).path)\n",
    "      path_file = os.path.join(path_file, name_file)\n",
    "    dir_name = os.path.dirname(path_file)\n",
    "    if dir_name != \"\" and not os.path.exists(dir_name):\n",
    "      os.makedirs(dir_name)\n",
    "    wget.download(url, out=path_file)\n",
    "    print(f\"Downloaded: {url}\")\n",
    "  except Exception as e:\n",
    "    print(f\"Failed to download: {url}\")\n",
    "    print(e)\n",
    "  sleepRandom()\n",
    "  print('Finished function: downloadFilePro')"
   ]
  },
  {
   "cell_type": "code",
   "execution_count": null,
   "metadata": {},
   "outputs": [],
   "source": [
    "# định dạng và lấy data bằng thư viện BeautifulSoup\n",
    "html_doc = wd.page_source\n",
    "soup = bs(html_doc, 'html.parser')"
   ]
  },
  {
   "cell_type": "code",
   "execution_count": null,
   "metadata": {},
   "outputs": [],
   "source": [
    "menu_main = soup.find('ul', {'id':\"menu-main-1\"}) # tìm danh mục\n",
    "print(menu_main)\n",
    "a_tabs = menu_main.find_all('a') # get list <a> to source\n"
   ]
  },
  {
   "cell_type": "code",
   "execution_count": null,
   "metadata": {},
   "outputs": [],
   "source": [
    "# Extract the link and text \n",
    "tab = \"   \"\n",
    "path_file = \"main-menu.txt\"\n",
    "result = list()\n",
    "for a_tab in a_tabs:\n",
    "    # Extract the link and text of each a_tab\n",
    "    link = a_tab.get('href')\n",
    "    text = a_tab.get_text(strip=True)\n",
    "    if a_tab.get('class') is not None:\n",
    "      print(f\"Link: {link}, Text: {text}\")\n",
    "      result.append(f\"Link: {link}, Text: {text}\")\n",
    "    else:\n",
    "      print(tab + f\"Link: {link}, Text: {text}\")\n",
    "      result.append(tab + f\"Link: {link}, Text: {text}\")\n",
    "\n",
    "writeFileTxt(path_file, result) # save on file\n"
   ]
  },
  {
   "cell_type": "code",
   "execution_count": null,
   "metadata": {},
   "outputs": [],
   "source": [
    "# crawl data to div: main_content\n",
    "main_content = soup.find('div', {'class': 'td-pb-span8 td-main-content'})\n",
    "main_content"
   ]
  },
  {
   "cell_type": "code",
   "execution_count": null,
   "metadata": {},
   "outputs": [],
   "source": [
    "\n",
    "a_tabs = main_content.find_all('a', {'class': 'td-image-wrap'}) # get list all <a> to source\n",
    "folder_image_path = 'image'\n",
    "file_audio_path = 'audio.txt'\n",
    "text = list()\n",
    "for a in a_tabs:\n",
    "  print('link:', a.get('href'))\n",
    "  print('text:',a.get_text(strip=True))\n",
    "  print('title:',a.get('title'))\n",
    "  img_url = a.find('img').get('data-img-url')\n",
    "  print('img url:', img_url)\n",
    "  text.append('link: ' + a.get('href') + \", \" + 'title: ' + a.get('title'))\n",
    "  downloadFile(img_url, folder_image_path, 1)\n"
   ]
  },
  {
   "cell_type": "code",
   "execution_count": null,
   "metadata": {},
   "outputs": [],
   "source": [
    "writeFileTxt(file_audio_path, text) # write link and title vào file audio.txt"
   ]
  },
  {
   "cell_type": "code",
   "execution_count": null,
   "metadata": {},
   "outputs": [],
   "source": [
    "# craw data to div: playlist | url_music, name_file\n",
    "url_music = 'https://phatphapungdung.com/sach-noi/toi-tu-hoc-189279.html'\n",
    "name_file = \"\"\n",
    "driver = webdriver.Chrome()\n",
    "tracks_data = {'title': list(), 'track': list(), 'link': list()}\n",
    "try:\n",
    "    driver.get(url_music)\n",
    "    soup = bs(driver.page_source, 'html.parser')\n",
    "    playlist = soup.find('div', {'class': 'fp-playlist-external is-audio fv-playlist-design-2017 visible-captions fp-playlist-horizontal fp-playlist-has-captions skin-youtuby'})\n",
    "    print(playlist)\n",
    "    sleepRandom()\n",
    "finally:\n",
    "    driver.quit()\n",
    "\n"
   ]
  },
  {
   "cell_type": "code",
   "execution_count": null,
   "metadata": {},
   "outputs": [],
   "source": [
    "# Find the <a> element using BeautifulSoup\n",
    "a_elements = playlist.find_all('a', {'data-item': True})\n",
    "a_elements\n"
   ]
  },
  {
   "cell_type": "code",
   "execution_count": null,
   "metadata": {},
   "outputs": [],
   "source": [
    "def downloadAudio(driver, link):\n",
    "    try:\n",
    "        driver.get(link)\n",
    "        # sleepRandom()\n",
    "        # pag.press(\"space\")\n",
    "        # sleepRandom()\n",
    "        # pag.hotkey(\"ctrl\",\"s\")\n",
    "        # sleepRandom()\n",
    "        # pag.press('enter')\n",
    "        # stop_next()\n",
    "        sleepRandom()\n",
    "        pag.click(x=606, y=626)\n",
    "        sleepRandom()\n",
    "        pag.click(x=501, y=570)\n",
    "        print(\"download success | \" + f\"Source URL: {link}\")\n",
    "    except Exception as e:\n",
    "        print('error download audio')\n",
    "        print(e)\n",
    "        "
   ]
  },
  {
   "cell_type": "code",
   "execution_count": null,
   "metadata": {},
   "outputs": [],
   "source": [
    "driver = webdriver.Chrome()\n",
    "# duyệt toàn bộ thẻ a\n",
    "for a_element in a_elements:\n",
    "    try:\n",
    "        # Convert the 'data-item' content to a dictionary\n",
    "        data_item_dict = eval(a_element['data-item'])\n",
    "        # Access the 'src' attribute inside the dictionary\n",
    "        src_value = str(data_item_dict['sources'][0]['src']).replace('\\\\', '').strip()\n",
    "        # downloadAudio(driver, src_value)\n",
    "        name = str(a_element.find('span').get_text()).strip()\n",
    "        # tracks_data['title'].append()\n",
    "        tracks_data['track'].append(name)\n",
    "        tracks_data['link'].append(src_value)\n",
    "    except Exception as e:\n",
    "        print('Error:', a_element)\n",
    "        print(e)\n",
    "stop_next()\n",
    "driver.quit()"
   ]
  },
  {
   "cell_type": "code",
   "execution_count": null,
   "metadata": {},
   "outputs": [],
   "source": [
    "tracks_df = pd.DataFrame(tracks_data)\n",
    "# Ghi vào file Excel\n",
    "with pd.ExcelWriter(f'{name_file}.xlsx') as writer:\n",
    "    tracks_df.to_excel(writer, sheet_name='Tracks', index=False)"
   ]
  },
  {
   "cell_type": "code",
   "execution_count": null,
   "metadata": {},
   "outputs": [],
   "source": [
    "\n"
   ]
  },
  {
   "cell_type": "code",
   "execution_count": null,
   "metadata": {},
   "outputs": [],
   "source": [
    "# file txt -> excel\n",
    "import pandas as pd\n",
    "\n",
    "books_data = {'title': list(), 'link audio': list(), 'img url': list()}\n",
    "tracks_data = {'title': list(), 'track': list(), 'link': list()}\n",
    "\n",
    "file_path = \"hat-giong-tam-hon/page1.txt\"\n",
    "# Track: Track 1: Dẫn Nhập, Link track: https://s1.phatphapungdung.com/media/bookspeak/sach-noi-new/hat-giong-tam-hon-phat-phap-ung-dung/Tam-Hon-Luot-Song-Co-Gai-Khong-Dau-Hang-Nghich-Canh-Lam-Lay-Dong-The-Gioi-1-phatphapungdung.com.mp3\n",
    "with open(file_path, 'r', encoding='UTF-8') as f:\n",
    "    tieude = \"\"\n",
    "    lines = f.readlines()\n",
    "    for line in lines:\n",
    "        try:\n",
    "            if line[:2] == \"++\":\n",
    "                line = line[2:].strip().split(\",\")\n",
    "                title = line[0].split(\":\", 1)[1].strip()\n",
    "                tieude = title\n",
    "                link_audio = line[1].split(\":\", 1)[1].strip()\n",
    "                img_url = line[2].split(\":\", 1)[1].strip()\n",
    "\n",
    "                books_data['title'].append(title)\n",
    "                books_data['link audio'].append(link_audio)\n",
    "                books_data['img url'].append(img_url)\n",
    "            else: \n",
    "                line = line.strip().split(\";\")\n",
    "                print(line)\n",
    "                title = tieude\n",
    "                track = line[0].split(\":\", 1)[1].strip()\n",
    "                link = line[1].split(\":\", 1)[1].strip()\n",
    "\n",
    "                tracks_data['title'].append(title)\n",
    "                tracks_data['track'].append(track)\n",
    "                tracks_data['link'].append(link)\n",
    "        except Exception as e:\n",
    "            print('Error at:', line)\n",
    "            print(e)\n",
    "\n",
    "books_df = pd.DataFrame(books_data)\n",
    "tracks_df = pd.DataFrame(tracks_data)\n",
    "# Ghi vào file Excel\n",
    "with pd.ExcelWriter('hat-giong-tam-hon.xlsx') as writer:\n",
    "    books_df.to_excel(writer, sheet_name='Books', index=False)\n",
    "    tracks_df.to_excel(writer, sheet_name='Tracks', index=False)\n"
   ]
  },
  {
   "cell_type": "code",
   "execution_count": null,
   "metadata": {},
   "outputs": [],
   "source": []
  },
  {
   "cell_type": "code",
   "execution_count": null,
   "metadata": {},
   "outputs": [],
   "source": [
    "path = ['img.png', 'img2.png', 'down.png']\n",
    "region = (0, 200, 1920//2, 600)\n",
    "img = cv2.imread(path[0])\n",
    "img2 = cv2.imread(path[1])\n",
    "img3 = cv2.imread(path[2])\n",
    "\n",
    "loca = pag.locateOnScreen(img,region=region, confidence=0.6)\n",
    "pag.click(loca)\n",
    "sleep(2)\n",
    "loca2 = pag.locateOnScreen(img2,region=loca, confidence=0.6)\n",
    "pag.click(loca2)\n",
    "sleep(2)\n",
    "loca3 = pag.locateOnScreen(img3,region=region, confidence=0.6)\n",
    "pag.click(loca3)\n",
    "print(loca, loca2, loca3)\n"
   ]
  },
  {
   "cell_type": "code",
   "execution_count": null,
   "metadata": {},
   "outputs": [],
   "source": []
  },
  {
   "cell_type": "code",
   "execution_count": null,
   "metadata": {},
   "outputs": [],
   "source": [
    "sleepRandom()\n",
    "wd.quit()"
   ]
  }
 ],
 "metadata": {
  "kernelspec": {
   "display_name": "Python 3",
   "language": "python",
   "name": "python3"
  },
  "language_info": {
   "codemirror_mode": {
    "name": "ipython",
    "version": 3
   },
   "file_extension": ".py",
   "mimetype": "text/x-python",
   "name": "python",
   "nbconvert_exporter": "python",
   "pygments_lexer": "ipython3",
   "version": "3.9.10"
  }
 },
 "nbformat": 4,
 "nbformat_minor": 2
}
